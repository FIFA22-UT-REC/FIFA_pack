{
 "cells": [
  {
   "cell_type": "code",
   "execution_count": 1,
   "id": "27483bab-dd01-40fd-844b-dfd5dfeb81cd",
   "metadata": {},
   "outputs": [],
   "source": [
    "import fifa_pack"
   ]
  },
  {
   "cell_type": "code",
   "execution_count": 10,
   "id": "448549e0-5cac-45df-a5f5-6c1a02f91785",
   "metadata": {},
   "outputs": [],
   "source": [
    "from fifa_pack.extractors.extract_deep import extract_deep"
   ]
  },
  {
   "cell_type": "code",
   "execution_count": 11,
   "id": "c9e108dd-4c41-4126-90b4-84246a1720f1",
   "metadata": {},
   "outputs": [
    {
     "ename": "TypeError",
     "evalue": "extract_deep() missing 1 required positional argument: 'stats_block'",
     "output_type": "error",
     "traceback": [
      "\u001b[1;31m---------------------------------------------------------------------------\u001b[0m",
      "\u001b[1;31mTypeError\u001b[0m                                 Traceback (most recent call last)",
      "Input \u001b[1;32mIn [11]\u001b[0m, in \u001b[0;36m<cell line: 1>\u001b[1;34m()\u001b[0m\n\u001b[1;32m----> 1\u001b[0m \u001b[43mextract_deep\u001b[49m\u001b[43m(\u001b[49m\u001b[43m)\u001b[49m\n",
      "\u001b[1;31mTypeError\u001b[0m: extract_deep() missing 1 required positional argument: 'stats_block'"
     ]
    }
   ],
   "source": [
    "extract_deep()"
   ]
  }
 ],
 "metadata": {
  "kernelspec": {
   "display_name": "Python [conda env:fifa22]",
   "language": "python",
   "name": "conda-env-fifa22-py"
  },
  "language_info": {
   "codemirror_mode": {
    "name": "ipython",
    "version": 3
   },
   "file_extension": ".py",
   "mimetype": "text/x-python",
   "name": "python",
   "nbconvert_exporter": "python",
   "pygments_lexer": "ipython3",
   "version": "3.10.4"
  }
 },
 "nbformat": 4,
 "nbformat_minor": 5
}
